{
  "nbformat": 4,
  "nbformat_minor": 0,
  "metadata": {
    "colab": {
      "provenance": [],
      "authorship_tag": "ABX9TyOX5/e/pgIHGQb3Ajc2yFiq",
      "include_colab_link": true
    },
    "kernelspec": {
      "name": "python3",
      "display_name": "Python 3"
    },
    "language_info": {
      "name": "python"
    }
  },
  "cells": [
    {
      "cell_type": "markdown",
      "metadata": {
        "id": "view-in-github",
        "colab_type": "text"
      },
      "source": [
        "<a href=\"https://colab.research.google.com/github/mondor705/machine-lerning/blob/main/glassclasification.ipynb\" target=\"_parent\"><img src=\"https://colab.research.google.com/assets/colab-badge.svg\" alt=\"Open In Colab\"/></a>"
      ]
    },
    {
      "cell_type": "code",
      "execution_count": null,
      "metadata": {
        "id": "ieZQSdHYWYNi"
      },
      "outputs": [],
      "source": [
        "# utilizado para manejos de directorios y rutas\n",
        "import os\n",
        "\n",
        "# Computacion vectorial y cientifica para python\n",
        "import numpy as np\n",
        "\n",
        "# Librerias para graficación (trazado de gráficos)\n",
        "from matplotlib import pyplot\n",
        "from mpl_toolkits.mplot3d import Axes3D  # Necesario para graficar superficies 3D\n",
        "\n",
        "# llama a matplotlib a embeber graficas dentro de los cuadernillos\n",
        "%matplotlib inline"
      ]
    },
    {
      "cell_type": "code",
      "source": [],
      "metadata": {
        "id": "4ntoVl_QYkxw"
      },
      "execution_count": null,
      "outputs": []
    },
    {
      "cell_type": "code",
      "source": [
        "from google.colab import drive\n",
        "drive.mount(\"/content/gdrive\")"
      ],
      "metadata": {
        "colab": {
          "base_uri": "https://localhost:8080/"
        },
        "id": "UljDXDloXTmp",
        "outputId": "7576cad5-daae-4342-f0fd-f465733f2b67"
      },
      "execution_count": null,
      "outputs": [
        {
          "output_type": "stream",
          "name": "stdout",
          "text": [
            "Mounted at /content/gdrive\n"
          ]
        }
      ]
    },
    {
      "cell_type": "code",
      "source": [
        "# Cargar datos\n",
        "data = np.loadtxt(('/content/gdrive/MyDrive/glass.csv'), delimiter=',', skiprows=1)\n",
        "X = data[:, :10]\n",
        "y = data[:, 9]\n",
        "m = y.size\n",
        "\n",
        "# imprimir algunos puntos de datos\n",
        "print('{:>8s}{:>8s}{:>8s}{:>8s}{:>8s}{:>8s}{:>8s}{:>8s}{:>8s}{:>8s}{:>10s}'.format('X[:,0]', 'X[:, 1]','X[:,2 ]','X[:, 3]','X[:, 4]','X[:, 5]','X[:, 6]','X[:, 7]','X[:, 8]','X[:, 9]', 'y'))\n",
        "print('-'*70)\n",
        "for i in range(100):\n",
        "    print('{:8.0f}{:8.0f}{:8.0f}{:8.0f}{:8.0f}{:8.0f}{:8.0f}{:8.0f}{:8.0f}{:8.0f}{:10.0f}'.format(X[i, 0], X[i, 1],X[i,2],X[i,3],X[i,4],X[i,5],X[i,6],X[i,7],X[i,8],X[i,9], y[i]))"
      ],
      "metadata": {
        "colab": {
          "base_uri": "https://localhost:8080/"
        },
        "id": "GAyAbfvZWhK2",
        "outputId": "dfaca167-ea2c-4625-95dc-896d0e8a389a"
      },
      "execution_count": null,
      "outputs": [
        {
          "output_type": "stream",
          "name": "stdout",
          "text": [
            "  X[:,0] X[:, 1] X[:,2 ] X[:, 3] X[:, 4] X[:, 5] X[:, 6] X[:, 7] X[:, 8] X[:, 9]         y\n",
            "----------------------------------------------------------------------\n",
            "       2      14       4       1      72       0       9       0       0       1         1\n",
            "       2      14       4       1      73       0       8       0       0       1         1\n",
            "       2      14       4       2      73       0       8       0       0       1         1\n",
            "       2      13       4       1      73       1       8       0       0       1         1\n",
            "       2      13       4       1      73       1       8       0       0       1         1\n",
            "       2      13       4       2      73       1       8       0       0       1         1\n",
            "       2      13       4       1      73       1       8       0       0       1         1\n",
            "       2      13       4       1      73       1       8       0       0       1         1\n",
            "       2      14       4       1      72       1       8       0       0       1         1\n",
            "       2      13       4       1      73       1       8       0       0       1         1\n",
            "       2      13       3       2      73       1       8       0       0       1         1\n",
            "       2      13       4       1      73       1       9       0       0       1         1\n",
            "       2      13       3       1      73       1       8       0       0       1         1\n",
            "       2      13       4       1      73       1       8       0       0       1         1\n",
            "       2      13       4       1      73       1       8       0       0       1         1\n",
            "       2      13       4       1      73       1       8       0       0       1         1\n",
            "       2      13       4       1      73       1       9       0       0       1         1\n",
            "       2      14       4       1      71       0       9       0       0       1         1\n",
            "       2      14       4       1      72       0       9       0       0       1         1\n",
            "       2      13       4       2      73       1       8       0       0       1         1\n",
            "       2      13       4       1      73       1       9       0       0       1         1\n",
            "       2      15       4       0      72       0       9       0       0       1         1\n",
            "       2      13       4       1      73       1       9       0       0       1         1\n",
            "       2      13       4       1      73       1       9       0       0       1         1\n",
            "       2      13       4       1      73       0       8       0       0       1         1\n",
            "       2      13       4       1      73       1       9       0       0       1         1\n",
            "       2      13       3       1      73       1       8       0       0       1         1\n",
            "       2      13       3       1      73       1       8       0       0       1         1\n",
            "       2      13       4       1      73       1       9       0       0       1         1\n",
            "       2      13       3       1      73       1       8       0       0       1         1\n",
            "       2      13       4       1      73       1       9       0       0       1         1\n",
            "       2      13       4       1      73       1       9       0       0       1         1\n",
            "       2      13       3       1      73       1       9       0       0       1         1\n",
            "       2      13       3       1      73       1       9       0       0       1         1\n",
            "       2      13       4       1      73       1       9       0       0       1         1\n",
            "       2      13       3       1      73       1       9       0       0       1         1\n",
            "       2      14       4       1      72       1       9       0       0       1         1\n",
            "       2      13       3       1      73       1       9       0       0       1         1\n",
            "       2      14       4       0      72       0      10       0       0       1         1\n",
            "       2      14       4       0      72       0      10       0       0       1         1\n",
            "       2      13       4       1      73       1       9       0       0       1         1\n",
            "       2      13       3       1      73       1       9       0       0       1         1\n",
            "       2      13       3       1      73       1       9       0       0       1         1\n",
            "       2      14       4       1      72       0      10       0       0       1         1\n",
            "       2      13       3       1      73       1       9       0       0       1         1\n",
            "       2      13       3       1      72       1       9       0       0       1         1\n",
            "       2      13       3       1      73       1       9       0       0       1         1\n",
            "       2      14       4       1      72       0      10       0       0       1         1\n",
            "       2      13       4       1      72       0      10       0       0       1         1\n",
            "       2      14       3       1      72       1       9       0       0       1         1\n",
            "       2      14       4       1      72       0      10       0       0       1         1\n",
            "       2      13       3       1      72       1       9       0       0       1         1\n",
            "       2      13       3       1      73       1       9       0       0       1         1\n",
            "       2      13       3       1      73       1       9       0       0       1         1\n",
            "       2      13       3       1      73       1       9       0       0       1         1\n",
            "       2      12       3       1      74       1       9       0       0       1         1\n",
            "       2      13       3       1      73       1       8       0       0       1         1\n",
            "       2      13       3       1      73       1       8       0       0       1         1\n",
            "       2      13       4       1      73       1       8       0       0       1         1\n",
            "       2      13       4       1      73       1       8       0       0       1         1\n",
            "       2      14       4       1      73       0       9       0       0       1         1\n",
            "       2      14       4       1      72       0       9       1       0       1         1\n",
            "       2      14       4       1      72       0      10       0       0       1         1\n",
            "       2      14       4       1      71       0      10       0       0       1         1\n",
            "       2      13       4       1      72       0      10       0       0       1         1\n",
            "       2      14       4       1      72       0       9       0       0       1         1\n",
            "       2      13       4       1      72       0      10       0       0       1         1\n",
            "       2      13       4       1      72       0      10       0       0       1         1\n",
            "       2      13       4       1      72       0      10       0       0       1         1\n",
            "       2      13       4       1      72       0      10       0       0       1         1\n",
            "       2      15       4       2      72       0       7       0       0       2         2\n",
            "       2      14       4       1      72       1       8       0       0       2         2\n",
            "       2      13       4       2      73       1       8       0       0       2         2\n",
            "       2      13       4       2      73       1       8       0       0       2         2\n",
            "       2      13       4       2      73       1       8       0       0       2         2\n",
            "       2      13       4       2      73       1       8       0       0       2         2\n",
            "       2      13       4       2      72       1       8       0       0       2         2\n",
            "       2      13       4       2      73       1       8       0       0       2         2\n",
            "       2      14       4       1      73       0       8       0       0       2         2\n",
            "       2      13       4       2      73       1       8       0       0       2         2\n",
            "       2      13       4       2      73       1       8       0       0       2         2\n",
            "       2      13       3       1      73       1       8       0       0       2         2\n",
            "       2      13       4       1      73       1       8       0       0       2         2\n",
            "       2      13       4       2      73       1       8       0       0       2         2\n",
            "       2      14       3       2      72       1       7       0       0       2         2\n",
            "       2      13       4       1      73       0       8       0       0       2         2\n",
            "       2      13       3       1      73       0       8       0       0       2         2\n",
            "       2      13       3       2      73       1       8       0       0       2         2\n",
            "       2      13       4       1      73       1       8       0       0       2         2\n",
            "       2      13       3       2      73       1       8       0       0       2         2\n",
            "       2      13       4       1      72       1       9       0       0       2         2\n",
            "       2      13       3       1      73       0       8       0       0       2         2\n",
            "       2      13       3       2      73       0       8       0       0       2         2\n",
            "       2      13       3       1      73       0       8       0       0       2         2\n",
            "       2      13       3       1      73       1       8       0       0       2         2\n",
            "       2      13       3       1      72       1       9       0       0       2         2\n",
            "       2      13       4       1      72       1       9       0       0       2         2\n",
            "       2      12       3       1      74       1       9       0       0       2         2\n",
            "       2      13       3       2      73       1       9       0       0       2         2\n",
            "       2      13       3       1      73       1       9       0       0       2         2\n"
          ]
        }
      ]
    },
    {
      "cell_type": "code",
      "source": [
        "def  featureNormalize(X):\n",
        "    X_norm = X.copy()\n",
        "    mu = np.zeros(X.shape[1])\n",
        "    sigma = np.zeros(X.shape[1])\n",
        "\n",
        "    mu = np.mean(X, axis = 0)\n",
        "    sigma = np.std(X, axis = 0)\n",
        "    X_norm = (X - mu) / sigma\n",
        "    \n",
        "    return X_norm, mu, sigma"
      ],
      "metadata": {
        "id": "CGXH8v_ubrBS"
      },
      "execution_count": null,
      "outputs": []
    },
    {
      "cell_type": "code",
      "source": [
        "# llama featureNormalize con los datos cargados\n",
        "X_norm, mu, sigma = featureNormalize(X)\n",
        "\n",
        "print(X)\n",
        "print('Media calculada:', mu)\n",
        "print('Desviación estandar calculada:', sigma)\n",
        "print(X_norm)"
      ],
      "metadata": {
        "id": "zbnTFpCxWaej",
        "colab": {
          "base_uri": "https://localhost:8080/"
        },
        "outputId": "919ce042-0b31-4dfe-aeb4-e080aa0930af"
      },
      "execution_count": null,
      "outputs": [
        {
          "output_type": "stream",
          "name": "stdout",
          "text": [
            "[[ 1.52101 13.64     4.49    ...  0.       0.       1.     ]\n",
            " [ 1.51761 13.89     3.6     ...  0.       0.       1.     ]\n",
            " [ 1.51618 13.53     3.55    ...  0.       0.       1.     ]\n",
            " ...\n",
            " [ 1.52065 14.36     0.      ...  1.64     0.       7.     ]\n",
            " [ 1.51651 14.38     0.      ...  1.57     0.       7.     ]\n",
            " [ 1.51711 14.23     0.      ...  1.67     0.       7.     ]]\n",
            "Media calculada: [1.51836542e+00 1.34078505e+01 2.68453271e+00 1.44490654e+00\n",
            " 7.26509346e+01 4.97056075e-01 8.95696262e+00 1.75046729e-01\n",
            " 5.70093458e-02 2.78037383e+00]\n",
            "Desviación estandar calculada: [0.00302976 0.81469337 1.43903379 0.49810176 0.77273399 0.65066625\n",
            " 1.41982447 0.49605617 0.09721077 2.09881761]\n",
            "[[ 0.87286765  0.28495326  1.25463857 ... -0.35287683 -0.5864509\n",
            "  -0.84827468]\n",
            " [-0.24933347  0.59181718  0.63616803 ... -0.35287683 -0.5864509\n",
            "  -0.84827468]\n",
            " [-0.72131806  0.14993314  0.60142249 ... -0.35287683 -0.5864509\n",
            "  -0.84827468]\n",
            " ...\n",
            " [ 0.75404635  1.16872135 -1.86551055 ...  2.95320036 -0.5864509\n",
            "   2.01047778]\n",
            " [-0.61239854  1.19327046 -1.86551055 ...  2.81208731 -0.5864509\n",
            "   2.01047778]\n",
            " [-0.41436305  1.00915211 -1.86551055 ...  3.01367739 -0.5864509\n",
            "   2.01047778]]\n"
          ]
        }
      ]
    },
    {
      "cell_type": "code",
      "source": [
        "# Añade el termino de interseccion a X\n",
        "# (Columna de unos para X0)\n",
        "X = np.concatenate([np.ones((m, 1)), X_norm], axis=1)"
      ],
      "metadata": {
        "id": "lVKZM5fpByJf"
      },
      "execution_count": null,
      "outputs": []
    },
    {
      "cell_type": "code",
      "source": [
        "print(X)"
      ],
      "metadata": {
        "colab": {
          "base_uri": "https://localhost:8080/"
        },
        "id": "W-rwNwqABx7e",
        "outputId": "29c980fb-1a23-4b6b-d41c-209d139e8ffe"
      },
      "execution_count": null,
      "outputs": [
        {
          "output_type": "stream",
          "name": "stdout",
          "text": [
            "[[ 1.          0.87286765  0.28495326 ... -0.35287683 -0.5864509\n",
            "  -0.84827468]\n",
            " [ 1.         -0.24933347  0.59181718 ... -0.35287683 -0.5864509\n",
            "  -0.84827468]\n",
            " [ 1.         -0.72131806  0.14993314 ... -0.35287683 -0.5864509\n",
            "  -0.84827468]\n",
            " ...\n",
            " [ 1.          0.75404635  1.16872135 ...  2.95320036 -0.5864509\n",
            "   2.01047778]\n",
            " [ 1.         -0.61239854  1.19327046 ...  2.81208731 -0.5864509\n",
            "   2.01047778]\n",
            " [ 1.         -0.41436305  1.00915211 ...  3.01367739 -0.5864509\n",
            "   2.01047778]]\n"
          ]
        }
      ]
    },
    {
      "cell_type": "code",
      "source": [
        "def computeCostMulti(X, y, theta):\n",
        "    # Inicializa algunos valores utiles\n",
        "    m = y.shape[0] # numero de ejemplos de entrenamiento\n",
        "    \n",
        "    J = 0\n",
        "    \n",
        "    h = np.dot(X, theta)\n",
        "    \n",
        "    J = (1/(2 * m)) * np.sum(np.square(np.dot(X, theta) - y))\n",
        "    \n",
        "    return J"
      ],
      "metadata": {
        "id": "W1TM4E_sBxkD"
      },
      "execution_count": null,
      "outputs": []
    },
    {
      "cell_type": "code",
      "source": [
        "def gradientDescentMulti(X, y, theta, alpha, num_iters):\n",
        "    \n",
        "    # Inicializa algunos valores \n",
        "    m = y.shape[0] # numero de ejemplos de entrenamiento\n",
        "    \n",
        "    # realiza una copia de theta, el cual será acutalizada por el descenso por el gradiente\n",
        "    theta = theta.copy()\n",
        "    \n",
        "    J_history = []\n",
        "    \n",
        "    for i in range(num_iters):\n",
        "        theta = theta - (alpha / m) * (np.dot(X, theta) - y).dot(X)\n",
        "        J_history.append(computeCostMulti(X, y, theta))\n",
        "    \n",
        "    return theta, J_history"
      ],
      "metadata": {
        "id": "bj5hSIrvCIsC"
      },
      "execution_count": null,
      "outputs": []
    },
    {
      "cell_type": "code",
      "source": [
        "# Elegir algun valor para alpha (probar varias alternativas)\n",
        "alpha = 0.001\n",
        "num_iters = 100\n",
        "\n",
        "# inicializa theta y ejecuta el descenso por el gradiente\n",
        "theta = np.zeros(11)\n",
        "theta, J_history = gradientDescentMulti(X, y, theta, alpha, num_iters)\n",
        "\n",
        "# Grafica la convergencia del costo\n",
        "pyplot.plot(np.arange(len(J_history)), J_history, lw=2)\n",
        "pyplot.xlabel('Numero de iteraciones')\n",
        "pyplot.ylabel('tipo de vidrio')\n",
        "\n",
        "# Muestra los resultados del descenso por el gradiente\n",
        "print('theta calculado por el descenso por el gradiente: {:s}'.format(str(theta)))\n",
        "\n",
        "# Estimar el Indice de Reflexion de un vidrio segun los materiales que contiene\n",
        "X_array = [1,1.84, 12.8, 5,2,72.88,0.5,9,0.65,0.54]\n",
        "X_array[0:10] = (X_array[0:10] - mu) / sigma\n",
        "RI = np.dot(X_array, theta)   # Se debe cambiar esto\n",
        "\n",
        "print('El tipo de vidrio predecido para un vidrio de 1.84 de indice de reflexion, 12.8 %Na, 5%Mg,2%Al, 72.88 % Si, 0.5% K, 9 % Ca, 0.65% Ba y 0.54% Fe(usando el descenso por el gradiente) es de tipo: {:.0f}'.format(RI))"
      ],
      "metadata": {
        "colab": {
          "base_uri": "https://localhost:8080/",
          "height": 566
        },
        "id": "Jvqr8k4sCIWG",
        "outputId": "f1b6676d-9737-4776-d60a-3b2890c4a895"
      },
      "execution_count": null,
      "outputs": [
        {
          "output_type": "stream",
          "name": "stdout",
          "text": [
            "theta calculado por el descenso por el gradiente: [ 0.26471342 -0.02814036  0.09083395 -0.13533209  0.10698266  0.02768407\n",
            " -0.0023448   0.00204737  0.10221068 -0.03317444  0.18546484]\n"
          ]
        },
        {
          "output_type": "error",
          "ename": "ValueError",
          "evalue": "ignored",
          "traceback": [
            "\u001b[0;31m---------------------------------------------------------------------------\u001b[0m",
            "\u001b[0;31mValueError\u001b[0m                                Traceback (most recent call last)",
            "\u001b[0;32m<ipython-input-19-e2f116e5048b>\u001b[0m in \u001b[0;36m<module>\u001b[0;34m\u001b[0m\n\u001b[1;32m     18\u001b[0m \u001b[0mX_array\u001b[0m \u001b[0;34m=\u001b[0m \u001b[0;34m[\u001b[0m\u001b[0;36m1\u001b[0m\u001b[0;34m,\u001b[0m\u001b[0;36m1.84\u001b[0m\u001b[0;34m,\u001b[0m \u001b[0;36m12.8\u001b[0m\u001b[0;34m,\u001b[0m \u001b[0;36m5\u001b[0m\u001b[0;34m,\u001b[0m\u001b[0;36m2\u001b[0m\u001b[0;34m,\u001b[0m\u001b[0;36m72.88\u001b[0m\u001b[0;34m,\u001b[0m\u001b[0;36m0.5\u001b[0m\u001b[0;34m,\u001b[0m\u001b[0;36m9\u001b[0m\u001b[0;34m,\u001b[0m\u001b[0;36m0.65\u001b[0m\u001b[0;34m,\u001b[0m\u001b[0;36m0.54\u001b[0m\u001b[0;34m]\u001b[0m\u001b[0;34m\u001b[0m\u001b[0;34m\u001b[0m\u001b[0m\n\u001b[1;32m     19\u001b[0m \u001b[0mX_array\u001b[0m\u001b[0;34m[\u001b[0m\u001b[0;36m0\u001b[0m\u001b[0;34m:\u001b[0m\u001b[0;36m10\u001b[0m\u001b[0;34m]\u001b[0m \u001b[0;34m=\u001b[0m \u001b[0;34m(\u001b[0m\u001b[0mX_array\u001b[0m\u001b[0;34m[\u001b[0m\u001b[0;36m0\u001b[0m\u001b[0;34m:\u001b[0m\u001b[0;36m10\u001b[0m\u001b[0;34m]\u001b[0m \u001b[0;34m-\u001b[0m \u001b[0mmu\u001b[0m\u001b[0;34m)\u001b[0m \u001b[0;34m/\u001b[0m \u001b[0msigma\u001b[0m\u001b[0;34m\u001b[0m\u001b[0;34m\u001b[0m\u001b[0m\n\u001b[0;32m---> 20\u001b[0;31m \u001b[0mRI\u001b[0m \u001b[0;34m=\u001b[0m \u001b[0mnp\u001b[0m\u001b[0;34m.\u001b[0m\u001b[0mdot\u001b[0m\u001b[0;34m(\u001b[0m\u001b[0mX_array\u001b[0m\u001b[0;34m[\u001b[0m\u001b[0;36m0\u001b[0m\u001b[0;34m:\u001b[0m\u001b[0;36m9\u001b[0m\u001b[0;34m]\u001b[0m\u001b[0;34m,\u001b[0m \u001b[0mtheta\u001b[0m\u001b[0;34m)\u001b[0m   \u001b[0;31m# Se debe cambiar esto\u001b[0m\u001b[0;34m\u001b[0m\u001b[0;34m\u001b[0m\u001b[0m\n\u001b[0m\u001b[1;32m     21\u001b[0m \u001b[0;34m\u001b[0m\u001b[0m\n\u001b[1;32m     22\u001b[0m \u001b[0mprint\u001b[0m\u001b[0;34m(\u001b[0m\u001b[0;34m'El tipo de vidrio predecido para un vidrio de 1.84 de indice de reflexion, 12.8 %Na, 5%Mg,2%Al, 72.88 % Si, 0.5% K, 9 % Ca, 0.65% Ba y 0.54% Fe(usando el descenso por el gradiente) es de tipo: {:.0f}'\u001b[0m\u001b[0;34m.\u001b[0m\u001b[0mformat\u001b[0m\u001b[0;34m(\u001b[0m\u001b[0mRI\u001b[0m\u001b[0;34m)\u001b[0m\u001b[0;34m)\u001b[0m\u001b[0;34m\u001b[0m\u001b[0;34m\u001b[0m\u001b[0m\n",
            "\u001b[0;32m<__array_function__ internals>\u001b[0m in \u001b[0;36mdot\u001b[0;34m(*args, **kwargs)\u001b[0m\n",
            "\u001b[0;31mValueError\u001b[0m: shapes (9,) and (11,) not aligned: 9 (dim 0) != 11 (dim 0)"
          ]
        },
        {
          "output_type": "display_data",
          "data": {
            "text/plain": [
              "<Figure size 432x288 with 1 Axes>"
            ],
            "image/png": "[encoded data removed]"
          },
          "metadata": {
            "needs_background": "light"
          }
        }
      ]
    },
    {
      "cell_type": "code",
      "source": [
        "X_array = [1,1.84, 12.8, 5,2,72.88,0.5,9,0.65,0.54]\n",
        "X_array[0:10] = (X_array[0:10] - mu) / sigma"
      ],
      "metadata": {
        "id": "JrwadFGzTecF"
      },
      "execution_count": null,
      "outputs": []
    },
    {
      "cell_type": "code",
      "source": [
        "X_array[1:10]"
      ],
      "metadata": {
        "colab": {
          "base_uri": "https://localhost:8080/"
        },
        "id": "-XWikUe0TqqU",
        "outputId": "ad95510d-78c1-408e-9d70-e629a38a8a78"
      },
      "execution_count": null,
      "outputs": [
        {
          "output_type": "execute_result",
          "data": {
            "text/plain": [
              "[-14.199023709522521,\n",
              " 7.029346623010614,\n",
              " 7.1372834441997,\n",
              " -91.42982651448781,\n",
              " 111.24435006591021,\n",
              " -5.956343761609861,\n",
              " 17.790229718044287,\n",
              " 6.100050772317998,\n",
              " -1.0674456977512186]"
            ]
          },
          "metadata": {},
          "execution_count": 21
        }
      ]
    },
    {
      "cell_type": "code",
      "source": [
        "# Cargar datos\n",
        "data = np.loadtxt(('/content/gdrive/MyDrive/glass.csv'), delimiter=',', skiprows=1)\n",
        "X = data[:, :10]\n",
        "y = data[:, 9]\n",
        "m = y.size\n",
        "X = np.concatenate([np.ones((m, 1)), X], axis=1)\n"
      ],
      "metadata": {
        "id": "lp_7_Kc3Tu32"
      },
      "execution_count": null,
      "outputs": []
    },
    {
      "cell_type": "code",
      "source": [
        "def normalEqn(X, y):\n",
        "  \n",
        "    theta = np.zeros(X.shape[1])\n",
        "    \n",
        "    theta = np.dot(np.dot(np.linalg.inv(np.dot(X.T,X)),X.T),y)\n",
        "    \n",
        "    return theta"
      ],
      "metadata": {
        "id": "dEGt5RLke_yr"
      },
      "execution_count": null,
      "outputs": []
    },
    {
      "cell_type": "code",
      "source": [
        "# Calcula los parametros con la ecuación de la normal\n",
        "theta = normalEqn(X, y);\n",
        "\n",
        "# Muestra los resultados optenidos a partir de la aplicación de la ecuación de la normal\n",
        "print('Theta calculado a partir de la ecuación de la normal: {:s}'.format(str(theta)));\n",
        "\n",
        "# Estimar el precio para una casa de superficie de 1650 sq-ft y tres dormitorios\n",
        "\n",
        "X_array = [1,1.84, 12.8, 5,2,72.88,0.5,9,0.65,0.54]\n",
        "RI = np.dot(X_array, theta) \n",
        "\n",
        "print('El tipo de vidrio predecido para un vidrio de 1.84 de indice de reflexion, 12.8 %Na, 5%Mg,2%Al, 72.88 % Si, 0.5% K, 9 % Ca, 0.65% Ba y 0.54% Fe(usando el descenso por el gradiente) es de tipo: {:.0f}'.format(RI))"
      ],
      "metadata": {
        "colab": {
          "base_uri": "https://localhost:8080/",
          "height": 321
        },
        "id": "I5B9TSKjfF9r",
        "outputId": "70bedf8b-2ee6-41f3-daa6-5e97ca93ea77"
      },
      "execution_count": null,
      "outputs": [
        {
          "output_type": "stream",
          "name": "stdout",
          "text": [
            "Theta calculado a partir de la ecuación de la normal: [ 1.19898669e-09 -1.18514976e-09  3.11606296e-12  6.28597174e-12\n",
            "  2.80164780e-12  5.91293681e-12  4.93977081e-12  5.51059198e-12\n",
            "  6.46194209e-12  2.78162215e-12  1.00000000e+00]\n"
          ]
        },
        {
          "output_type": "error",
          "ename": "ValueError",
          "evalue": "ignored",
          "traceback": [
            "\u001b[0;31m---------------------------------------------------------------------------\u001b[0m",
            "\u001b[0;31mValueError\u001b[0m                                Traceback (most recent call last)",
            "\u001b[0;32m<ipython-input-24-87d9eb1e9ae3>\u001b[0m in \u001b[0;36m<module>\u001b[0;34m\u001b[0m\n\u001b[1;32m      8\u001b[0m \u001b[0;34m\u001b[0m\u001b[0m\n\u001b[1;32m      9\u001b[0m \u001b[0mX_array\u001b[0m \u001b[0;34m=\u001b[0m \u001b[0;34m[\u001b[0m\u001b[0;36m1\u001b[0m\u001b[0;34m,\u001b[0m\u001b[0;36m1.84\u001b[0m\u001b[0;34m,\u001b[0m \u001b[0;36m12.8\u001b[0m\u001b[0;34m,\u001b[0m \u001b[0;36m5\u001b[0m\u001b[0;34m,\u001b[0m\u001b[0;36m2\u001b[0m\u001b[0;34m,\u001b[0m\u001b[0;36m72.88\u001b[0m\u001b[0;34m,\u001b[0m\u001b[0;36m0.5\u001b[0m\u001b[0;34m,\u001b[0m\u001b[0;36m9\u001b[0m\u001b[0;34m,\u001b[0m\u001b[0;36m0.65\u001b[0m\u001b[0;34m,\u001b[0m\u001b[0;36m0.54\u001b[0m\u001b[0;34m]\u001b[0m\u001b[0;34m\u001b[0m\u001b[0;34m\u001b[0m\u001b[0m\n\u001b[0;32m---> 10\u001b[0;31m \u001b[0mRI\u001b[0m \u001b[0;34m=\u001b[0m \u001b[0mnp\u001b[0m\u001b[0;34m.\u001b[0m\u001b[0mdot\u001b[0m\u001b[0;34m(\u001b[0m\u001b[0mX_array\u001b[0m\u001b[0;34m,\u001b[0m \u001b[0mtheta\u001b[0m\u001b[0;34m)\u001b[0m\u001b[0;34m\u001b[0m\u001b[0;34m\u001b[0m\u001b[0m\n\u001b[0m\u001b[1;32m     11\u001b[0m \u001b[0;34m\u001b[0m\u001b[0m\n\u001b[1;32m     12\u001b[0m \u001b[0mprint\u001b[0m\u001b[0;34m(\u001b[0m\u001b[0;34m'El tipo de vidrio predecido para un vidrio de 1.84 de indice de reflexion, 12.8 %Na, 5%Mg,2%Al, 72.88 % Si, 0.5% K, 9 % Ca, 0.65% Ba y 0.54% Fe(usando el descenso por el gradiente) es de tipo: {:.0f}'\u001b[0m\u001b[0;34m.\u001b[0m\u001b[0mformat\u001b[0m\u001b[0;34m(\u001b[0m\u001b[0mRI\u001b[0m\u001b[0;34m)\u001b[0m\u001b[0;34m)\u001b[0m\u001b[0;34m\u001b[0m\u001b[0;34m\u001b[0m\u001b[0m\n",
            "\u001b[0;32m<__array_function__ internals>\u001b[0m in \u001b[0;36mdot\u001b[0;34m(*args, **kwargs)\u001b[0m\n",
            "\u001b[0;31mValueError\u001b[0m: shapes (10,) and (11,) not aligned: 10 (dim 0) != 11 (dim 0)"
          ]
        }
      ]
    }
  ]
}